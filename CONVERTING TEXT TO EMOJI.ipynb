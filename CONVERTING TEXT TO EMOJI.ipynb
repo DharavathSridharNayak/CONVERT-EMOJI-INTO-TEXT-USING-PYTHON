{
 "cells": [
  {
   "cell_type": "code",
   "execution_count": 1,
   "id": "ab148c09-20fd-46ce-a9d1-1108cf77d73c",
   "metadata": {},
   "outputs": [
    {
     "name": "stdout",
     "output_type": "stream",
     "text": [
      "Collecting demoji\n",
      "  Downloading demoji-1.1.0-py3-none-any.whl.metadata (9.2 kB)\n",
      "Downloading demoji-1.1.0-py3-none-any.whl (42 kB)\n",
      "   ---------------------------------------- 0.0/42.9 kB ? eta -:--:--\n",
      "   ------------------- -------------------- 20.5/42.9 kB 330.3 kB/s eta 0:00:01\n",
      "   ------------------- -------------------- 20.5/42.9 kB 330.3 kB/s eta 0:00:01\n",
      "   ------------------- -------------------- 20.5/42.9 kB 330.3 kB/s eta 0:00:01\n",
      "   ------------------- -------------------- 20.5/42.9 kB 330.3 kB/s eta 0:00:01\n",
      "   ---------------------------------------- 42.9/42.9 kB 148.9 kB/s eta 0:00:00\n",
      "Installing collected packages: demoji\n",
      "Successfully installed demoji-1.1.0\n",
      "Note: you may need to restart the kernel to use updated packages.\n"
     ]
    }
   ],
   "source": [
    "pip install demoji"
   ]
  },
  {
   "cell_type": "code",
   "execution_count": 2,
   "id": "8e4635a7-19f4-4e8d-919f-fcbf51e3e3c8",
   "metadata": {},
   "outputs": [
    {
     "name": "stderr",
     "output_type": "stream",
     "text": [
      "C:\\Users\\Dharavath Sridhar\\AppData\\Local\\Temp\\ipykernel_33052\\4199042163.py:3: FutureWarning: The demoji.download_codes attribute is deprecated and will be removed from demoji in a future version. It is an unused attribute as emoji codes are now distributed directly with the demoji package.\n",
      "  demoji.download_codes()\n"
     ]
    }
   ],
   "source": [
    "import demoji\n",
    "\n",
    "demoji.download_codes()"
   ]
  },
  {
   "cell_type": "code",
   "execution_count": 3,
   "id": "4df2cf8c-4e48-4162-badf-42e050ffaeb5",
   "metadata": {},
   "outputs": [
    {
     "data": {
      "text/plain": [
       "{'💬': 'speech balloon',\n",
       " '🔥': 'fire',\n",
       " '😊': 'smiling face with smiling eyes',\n",
       " '👍': 'thumbs up',\n",
       " '💯': 'hundred points'}"
      ]
     },
     "execution_count": 3,
     "metadata": {},
     "output_type": "execute_result"
    }
   ],
   "source": [
    "import demoji\n",
    "\n",
    "text = \"\"\"I will be your secret santa this year 😊 .\n",
    "    The party I'm hosting for you is going to be lit🔥 .\n",
    "    A happiness of  👍  will erupt that day.\n",
    "    Have fun till then you 😊 💬 💯 .\"\"\"\n",
    "\n",
    "demoji.findall(text)"
   ]
  },
  {
   "cell_type": "code",
   "execution_count": 4,
   "id": "ff4d4d81-079f-49e3-b37d-9be666e420cc",
   "metadata": {},
   "outputs": [
    {
     "data": {
      "text/plain": [
       "{'😊': 'smiling face with smiling eyes'}"
      ]
     },
     "execution_count": 4,
     "metadata": {},
     "output_type": "execute_result"
    }
   ],
   "source": [
    "import demoji\n",
    "\n",
    "text = \"\"\"Sometimes I'm 😊 , and sometimes I'm 😊 .\n",
    "    But most the times I'm 😊 and 😊\"\"\"\n",
    "\n",
    "demoji.findall(text)"
   ]
  },
  {
   "cell_type": "code",
   "execution_count": 5,
   "id": "a5b7faff-9765-4f77-9774-e965bb8014ce",
   "metadata": {},
   "outputs": [
    {
     "data": {
      "text/plain": [
       "{'💡': 'light bulb'}"
      ]
     },
     "execution_count": 5,
     "metadata": {},
     "output_type": "execute_result"
    }
   ],
   "source": [
    "import demoji\n",
    "\n",
    "Gandhi = \"\"\" Mahatama Gandhi Said 💡️💡️\"\"\"\n",
    "\n",
    "demoji.findall(Gandhi)"
   ]
  },
  {
   "cell_type": "markdown",
   "id": "fa23cea2-f9d6-4726-ac33-5d490fb333d2",
   "metadata": {},
   "source": [
    "1. Basic Emoji Detection"
   ]
  },
  {
   "cell_type": "code",
   "execution_count": 6,
   "id": "78e5d5fd-5068-4bd5-a257-f538a7107899",
   "metadata": {},
   "outputs": [
    {
     "name": "stdout",
     "output_type": "stream",
     "text": [
      "Found emojis:\n",
      "💻: laptop\n",
      "🔥: fire\n",
      "👩: woman\n",
      "🚀: rocket\n",
      "🐍: snake\n"
     ]
    }
   ],
   "source": [
    "import demoji\n",
    "\n",
    "text = \"Python is fun! 🐍🔥 Let's code together! 👩💻🚀\"\n",
    "emoji_dict = demoji.findall(text)\n",
    "\n",
    "print(\"Found emojis:\")\n",
    "for emoji, description in emoji_dict.items():\n",
    "    print(f\"{emoji}: {description}\")"
   ]
  },
  {
   "cell_type": "markdown",
   "id": "256c9f30-e1b9-4d28-8529-9baee9a2dd1e",
   "metadata": {},
   "source": [
    "2. Replace Emojis with Text Descriptions"
   ]
  },
  {
   "cell_type": "code",
   "execution_count": 7,
   "id": "55bae297-4d72-4aab-b634-ad35c244d865",
   "metadata": {},
   "outputs": [
    {
     "name": "stdout",
     "output_type": "stream",
     "text": [
      "Modified text: I love pizza! [pizza] and music! [musical note]\n"
     ]
    }
   ],
   "source": [
    "import demoji\n",
    "\n",
    "text = \"I love pizza! 🍕 and music! 🎵\"\n",
    "emoji_dict = demoji.findall(text)\n",
    "\n",
    "# Replace emojis with their descriptions\n",
    "for emoji, desc in emoji_dict.items():\n",
    "    text = text.replace(emoji, f\"[{desc}]\")\n",
    "\n",
    "print(\"Modified text:\", text)"
   ]
  },
  {
   "cell_type": "markdown",
   "id": "737c78ed-7a15-4573-b658-82d7084a3839",
   "metadata": {},
   "source": [
    "3. Count Emoji Frequency"
   ]
  },
  {
   "cell_type": "code",
   "execution_count": 8,
   "id": "a61e5762-1ad8-4281-b340-4a30e6aa7574",
   "metadata": {},
   "outputs": [
    {
     "name": "stdout",
     "output_type": "stream",
     "text": [
      "Emoji frequency: Counter({'🎁': 1, '🎂': 1, '🎉': 1})\n"
     ]
    }
   ],
   "source": [
    "import demoji\n",
    "from collections import Counter\n",
    "\n",
    "text = \"Happy birthday! 🎂🎉🎂🎁🎉🎂\"\n",
    "emojis = demoji.findall(text)\n",
    "\n",
    "emoji_counts = Counter(emojis.keys())\n",
    "print(\"Emoji frequency:\", emoji_counts)"
   ]
  },
  {
   "cell_type": "markdown",
   "id": "dc1784c7-8c70-4ca3-aa69-8b9d81bea20c",
   "metadata": {},
   "source": [
    "4.Check for Emoji Presence"
   ]
  },
  {
   "cell_type": "code",
   "execution_count": 10,
   "id": "81f63acc-61d4-44eb-b9f6-016768eacfac",
   "metadata": {},
   "outputs": [
    {
     "name": "stdout",
     "output_type": "stream",
     "text": [
      "No emojis found!\n"
     ]
    }
   ],
   "source": [
    "import demoji\n",
    "\n",
    "text = \"This text has no emojis.\"\n",
    "emojis = demoji.findall(text)\n",
    "\n",
    "if not emojis:\n",
    "    print(\"No emojis found!\")\n",
    "else:\n",
    "    print(\"Found emojis:\", emojis)"
   ]
  },
  {
   "cell_type": "code",
   "execution_count": 12,
   "id": "bc913439-dd79-4da4-9ada-acd65d19d863",
   "metadata": {},
   "outputs": [
    {
     "name": "stdout",
     "output_type": "stream",
     "text": [
      "Emojis with skin tones:\n",
      "👋🏽: waving hand: medium skin tone\n",
      "👩🏾: woman: medium-dark skin tone\n",
      "💻: laptop\n"
     ]
    }
   ],
   "source": [
    "import demoji\n",
    "\n",
    "text = \"Hello! 👋🏽 How are you? 👩🏾💻\"\n",
    "emojis = demoji.findall(text)\n",
    "\n",
    "print(\"Emojis with skin tones:\")\n",
    "for emoji, desc in emojis.items():\n",
    "    print(f\"{emoji}: {desc}\")"
   ]
  },
  {
   "cell_type": "code",
   "execution_count": null,
   "id": "f6f40b11-baab-49e5-bf7a-7350289ffa27",
   "metadata": {},
   "outputs": [],
   "source": []
  }
 ],
 "metadata": {
  "kernelspec": {
   "display_name": "Python 3 (ipykernel)",
   "language": "python",
   "name": "python3"
  },
  "language_info": {
   "codemirror_mode": {
    "name": "ipython",
    "version": 3
   },
   "file_extension": ".py",
   "mimetype": "text/x-python",
   "name": "python",
   "nbconvert_exporter": "python",
   "pygments_lexer": "ipython3",
   "version": "3.11.7"
  }
 },
 "nbformat": 4,
 "nbformat_minor": 5
}
